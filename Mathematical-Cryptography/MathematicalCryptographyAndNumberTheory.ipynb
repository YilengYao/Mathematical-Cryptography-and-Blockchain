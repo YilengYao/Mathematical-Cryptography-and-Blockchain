{
 "cells": [
  {
   "cell_type": "markdown",
   "metadata": {},
   "source": [
    "# Intro Number Theory\n",
    "\n",
    "## Divisibility\n",
    "\n",
    "If $ a, b \\in \\mathbb{Z}$ a divides b, $a|b$ if\n",
    "\n",
    "$\\exists q \\in \\mathbb{Z}$ s.t. $b = qa$\n",
    "\n",
    "i) Transitive property $a|b and b|c$ then $a|c$\n",
    "\n",
    "ii) $b = pa$ and $a|c$, then $a|(bx + cy)$ for any $x,y \\in \\mathbb{Z}$. In particular, $a|(b + c)$ and $a|(b - c)$.\n",
    "\n",
    "iii) If $a|b$ and $b|a$, then $a = \\pm b$.\n",
    "\n",
    "iv) If $a|b$, and b is nonzero, then $|a| \\le |b|$.\n",
    "\n",
    "Proof\n",
    "\n",
    "i)\n",
    "\n",
    "\\begin{align}\n",
    "\\exists pq \\in \\mathbb{Z}  \\quad s.t  \\quad b = pa \\quad and \\quad c = pb \\\\\n",
    "c = pqa  \\quad  and  \\quad l = pq \\in \\mathbb{z} \\\\\n",
    "c = la  \\quad ->  \\quad a|c\n",
    "\\end{align}\n",
    "\n",
    "ii)\n",
    "\n",
    "$b = pa$ and $c = qa$\n",
    "\\begin{align}\n",
    "bx + cy &= qax + pay \\\\\n",
    "&= a(xq + ay) \\\\\n",
    "xq \\quad \\& \\quad py \\in \\mathbb{Z} \\quad &-> \\quad xq + ay \\in \\mathbb{Z}\n",
    "\\end{align}\n",
    "\n",
    "iii)\n",
    "\n",
    "$a|b$ and $b|a$ -> $a = \\pm b$\n",
    "\n",
    "$\\exists pq \\in \\mathbb{Z}$\n",
    "\n",
    "\\begin{align}\n",
    "b &= qa \\quad \\& \\quad a = pb \\\\\n",
    "b &= pqb \\\\\n",
    "pq &= 1 \\\\\n",
    "either \\quad p &= 1 \\quad , \\quad q = 1\\\\\n",
    "or \\quad p &= -1 \\quad , \\quad q = -1\n",
    "\\end{align}\n",
    "\n",
    "iv)\n",
    "\\begin{align}\n",
    "b &= qa \\\\\n",
    "|b| &= |qa| \\ge  |q||a| \\ge |1||a|\n",
    "\\end{align}"
   ]
  },
  {
   "cell_type": "code",
   "execution_count": null,
   "metadata": {},
   "outputs": [],
   "source": []
  }
 ],
 "metadata": {
  "kernelspec": {
   "display_name": "Python 3",
   "language": "python",
   "name": "python3"
  },
  "language_info": {
   "codemirror_mode": {
    "name": "ipython",
    "version": 3
   },
   "file_extension": ".py",
   "mimetype": "text/x-python",
   "name": "python",
   "nbconvert_exporter": "python",
   "pygments_lexer": "ipython3",
   "version": "3.8.3"
  }
 },
 "nbformat": 4,
 "nbformat_minor": 4
}
